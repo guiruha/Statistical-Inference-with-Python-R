{
 "cells": [
  {
   "cell_type": "markdown",
   "metadata": {},
   "source": [
    "# EJEMPLOS DE CONTRASTES"
   ]
  },
  {
   "cell_type": "code",
   "execution_count": 2,
   "metadata": {},
   "outputs": [],
   "source": [
    "import numpy as np\n",
    "import pandas as pd\n",
    "import scipy.stats as stats\n",
    "import matplotlib.pyplot as plt\n",
    "import math"
   ]
  },
  {
   "cell_type": "markdown",
   "metadata": {},
   "source": [
    "### Test de una muesta"
   ]
  },
  {
   "cell_type": "code",
   "execution_count": 3,
   "metadata": {},
   "outputs": [],
   "source": [
    "np.random.seed(2020)\n",
    "\n",
    "population_ages1 = stats.poisson.rvs(loc = 18, mu = 35, size = 1500000)\n",
    "population_ages2 = stats.poisson.rvs(loc = 18, mu = 10, size = 1000000)"
   ]
  },
  {
   "cell_type": "code",
   "execution_count": 5,
   "metadata": {},
   "outputs": [],
   "source": [
    "population_ages = np.append(population_ages1, population_ages2)"
   ]
  },
  {
   "cell_type": "code",
   "execution_count": 14,
   "metadata": {},
   "outputs": [
    {
     "data": {
      "text/plain": [
       "(array([5.41000e+02, 9.92200e+03, 5.69550e+04, 1.52475e+05, 2.37750e+05,\n",
       "        2.38908e+05, 1.68115e+05, 8.68960e+04, 3.50980e+04, 1.34350e+04,\n",
       "        1.05510e+04, 2.04290e+04, 4.21370e+04, 7.51330e+04, 1.17020e+05,\n",
       "        1.59330e+05, 1.90675e+05, 2.01720e+05, 1.91042e+05, 1.62145e+05,\n",
       "        1.24736e+05, 8.61280e+04, 5.53300e+04, 3.18730e+04, 1.69920e+04,\n",
       "        8.30400e+03, 3.87400e+03, 1.57700e+03, 5.74000e+02, 2.30000e+02,\n",
       "        7.50000e+01, 2.30000e+01, 7.00000e+00]),\n",
       " array([18., 20., 22., 24., 26., 28., 30., 32., 34., 36., 38., 40., 42.,\n",
       "        44., 46., 48., 50., 52., 54., 56., 58., 60., 62., 64., 66., 68.,\n",
       "        70., 72., 74., 76., 78., 80., 82., 84.]),\n",
       " <a list of 33 Patch objects>)"
      ]
     },
     "execution_count": 14,
     "metadata": {},
     "output_type": "execute_result"
    },
    {
     "data": {
      "image/png": "[encoded data removed]",
      "text/plain": [
       "<Figure size 432x288 with 1 Axes>"
      ]
     },
     "metadata": {
      "needs_background": "light"
     },
     "output_type": "display_data"
    }
   ],
   "source": [
    "plt.hist(population_ages, bins = 33)"
   ]
  },
  {
   "cell_type": "code",
   "execution_count": 15,
   "metadata": {},
   "outputs": [],
   "source": [
    "valencia_ages1 = stats.poisson.rvs(loc = 18, mu = 30, size = 30)\n",
    "valencia_ages2 = stats.poisson.rvs(loc = 18, mu = 10, size = 20)\n",
    "valencia_ages = np.append(valencia_ages1, valencia_ages2)"
   ]
  },
  {
   "cell_type": "code",
   "execution_count": 18,
   "metadata": {},
   "outputs": [
    {
     "name": "stdout",
     "output_type": "stream",
     "text": [
      "42.9991224\n",
      "39.46\n"
     ]
    }
   ],
   "source": [
    "print(population_ages.mean())\n",
    "print(valencia_ages.mean())"
   ]
  },
  {
   "cell_type": "markdown",
   "metadata": {},
   "source": [
    "$$\n",
    "\\left\\{\n",
    "\\begin{array}{ll}\n",
    "H_0: & \\mu = 43 \\\\\n",
    "H_1: & \\mu \\neq 43\n",
    "\\end{array}\n",
    "\\right.\n",
    "$$\n",
    "\n",
    "donde $\\mu$ representa la media de edad de la ciudad de Valencia"
   ]
  },
  {
   "cell_type": "code",
   "execution_count": 20,
   "metadata": {},
   "outputs": [
    {
     "data": {
      "text/plain": [
       "Ttest_1sampResult(statistic=-2.1714050303885575, pvalue=0.034771114438177056)"
      ]
     },
     "execution_count": 20,
     "metadata": {},
     "output_type": "execute_result"
    }
   ],
   "source": [
    "stats.ttest_1samp(a = valencia_ages, popmean = population_ages.mean())"
   ]
  },
  {
   "cell_type": "markdown",
   "metadata": {},
   "source": [
    "Si queremos hacer por intervalos de confianza"
   ]
  },
  {
   "cell_type": "code",
   "execution_count": 32,
   "metadata": {},
   "outputs": [
    {
     "data": {
      "text/plain": [
       "(-2.0095752344892093, 2.009575234489209)"
      ]
     },
     "execution_count": 32,
     "metadata": {},
     "output_type": "execute_result"
    }
   ],
   "source": [
    "alpha = 0.05\n",
    "(stats.t.ppf(q = alpha/2, df = len(valencia_ages)-1), stats.t.ppf(q = 1-alpha/2, df = (len(valencia_ages)-1)))"
   ]
  },
  {
   "cell_type": "code",
   "execution_count": 33,
   "metadata": {},
   "outputs": [
    {
     "data": {
      "text/plain": [
       "0.017385758040821108"
      ]
     },
     "execution_count": 33,
     "metadata": {},
     "output_type": "execute_result"
    }
   ],
   "source": [
    "stats.t.cdf(-2.1714, df = len(valencia_ages)-1)\n",
    "# Esto es el pvalor"
   ]
  },
  {
   "cell_type": "code",
   "execution_count": 35,
   "metadata": {},
   "outputs": [
    {
     "name": "stdout",
     "output_type": "stream",
     "text": [
      "1.6134955841278276\n"
     ]
    }
   ],
   "source": [
    "sigma = valencia_ages.std()/math.sqrt(len(valencia_ages))\n",
    "print(sigma)"
   ]
  },
  {
   "cell_type": "code",
   "execution_count": 38,
   "metadata": {},
   "outputs": [
    {
     "data": {
      "text/plain": [
       "(36.21755923317902, 42.702440766820985)"
      ]
     },
     "execution_count": 38,
     "metadata": {},
     "output_type": "execute_result"
    }
   ],
   "source": [
    "stats.t.interval(1-alpha, df = len(valencia_ages) -1, \n",
    "                 loc = valencia_ages.mean(), scale = sigma)"
   ]
  },
  {
   "cell_type": "markdown",
   "metadata": {},
   "source": [
    "Como observamos el intervalo de confianza no contiene el valor 43 por lo que tenemos suficientes evidencias para rechazar $H_0$"
   ]
  },
  {
   "cell_type": "markdown",
   "metadata": {},
   "source": [
    "### Test de dos poblaciones independientes"
   ]
  },
  {
   "cell_type": "code",
   "execution_count": 41,
   "metadata": {},
   "outputs": [],
   "source": [
    "np.random.seed(2020)\n",
    "sagunt_ages1 = stats.poisson.rvs(loc = 18, mu = 33, size = 30)\n",
    "sagunt_ages2 = stats.poisson.rvs(loc = 18, mu = 13, size = 20)\n",
    "sagunt_ages = np.append(sagunt_ages1, sagunt_ages2)"
   ]
  },
  {
   "cell_type": "markdown",
   "metadata": {},
   "source": [
    "$$\n",
    "\\left\\{\n",
    "\\begin{array}{ll}\n",
    "H_0: & \\mu_1 = \\mu_2 \\\\\n",
    "H_1: & \\mu_1 \\neq \\mu_2\n",
    "\\end{array}\n",
    "\\right.\n",
    "$$\n",
    "\n",
    "doned $\\mu_1$ representa la media de edad de Valencia y $\\mu_2$ la edad media de Sagunto"
   ]
  },
  {
   "cell_type": "code",
   "execution_count": 43,
   "metadata": {},
   "outputs": [
    {
     "data": {
      "text/plain": [
       "Ttest_indResult(statistic=-1.5980446624552707, pvalue=0.11328969442894833)"
      ]
     },
     "execution_count": 43,
     "metadata": {},
     "output_type": "execute_result"
    }
   ],
   "source": [
    "stats.ttest_ind(a = valencia_ages, b = sagunt_ages, equal_var = False)"
   ]
  },
  {
   "cell_type": "markdown",
   "metadata": {},
   "source": [
    "Como el $p_{valor}$ es grande podemos afirmar que no tenemos suficientes evidencias para rechazar $H_0$"
   ]
  },
  {
   "cell_type": "markdown",
   "metadata": {},
   "source": [
    "### Test de dos poblaciones emparejadas"
   ]
  },
  {
   "cell_type": "code",
   "execution_count": 45,
   "metadata": {},
   "outputs": [],
   "source": [
    "np.random.seed(100)\n",
    "before = stats.norm.rvs(scale = 30, loc = 250, size = 100)\n",
    "after = before + stats.norm.rvs(scale = 5, loc = -1.25, size = 100)\n",
    "\n",
    "issue_df = pd.DataFrame({\n",
    "    'data_before': before,\n",
    "    'data_after': after,\n",
    "    'data_change':after-before\n",
    "})"
   ]
  },
  {
   "cell_type": "code",
   "execution_count": 46,
   "metadata": {},
   "outputs": [
    {
     "data": {
      "text/html": [
       "<div>\n",
       "<style scoped>\n",
       "    .dataframe tbody tr th:only-of-type {\n",
       "        vertical-align: middle;\n",
       "    }\n",
       "\n",
       "    .dataframe tbody tr th {\n",
       "        vertical-align: top;\n",
       "    }\n",
       "\n",
       "    .dataframe thead th {\n",
       "        text-align: right;\n",
       "    }\n",
       "</style>\n",
       "<table border=\"1\" class=\"dataframe\">\n",
       "  <thead>\n",
       "    <tr style=\"text-align: right;\">\n",
       "      <th></th>\n",
       "      <th>data_before</th>\n",
       "      <th>data_after</th>\n",
       "      <th>data_change</th>\n",
       "    </tr>\n",
       "  </thead>\n",
       "  <tbody>\n",
       "    <tr>\n",
       "      <th>count</th>\n",
       "      <td>100.000000</td>\n",
       "      <td>100.000000</td>\n",
       "      <td>100.000000</td>\n",
       "    </tr>\n",
       "    <tr>\n",
       "      <th>mean</th>\n",
       "      <td>246.875024</td>\n",
       "      <td>245.273794</td>\n",
       "      <td>-1.601231</td>\n",
       "    </tr>\n",
       "    <tr>\n",
       "      <th>std</th>\n",
       "      <td>29.239138</td>\n",
       "      <td>28.860282</td>\n",
       "      <td>5.347108</td>\n",
       "    </tr>\n",
       "    <tr>\n",
       "      <th>min</th>\n",
       "      <td>175.385454</td>\n",
       "      <td>182.016288</td>\n",
       "      <td>-16.116577</td>\n",
       "    </tr>\n",
       "    <tr>\n",
       "      <th>25%</th>\n",
       "      <td>224.578491</td>\n",
       "      <td>224.637324</td>\n",
       "      <td>-4.794257</td>\n",
       "    </tr>\n",
       "    <tr>\n",
       "      <th>50%</th>\n",
       "      <td>248.904910</td>\n",
       "      <td>246.617406</td>\n",
       "      <td>-1.980166</td>\n",
       "    </tr>\n",
       "    <tr>\n",
       "      <th>75%</th>\n",
       "      <td>270.287894</td>\n",
       "      <td>266.937200</td>\n",
       "      <td>2.271459</td>\n",
       "    </tr>\n",
       "    <tr>\n",
       "      <th>max</th>\n",
       "      <td>311.038227</td>\n",
       "      <td>310.899838</td>\n",
       "      <td>10.243270</td>\n",
       "    </tr>\n",
       "  </tbody>\n",
       "</table>\n",
       "</div>"
      ],
      "text/plain": [
       "       data_before  data_after  data_change\n",
       "count   100.000000  100.000000   100.000000\n",
       "mean    246.875024  245.273794    -1.601231\n",
       "std      29.239138   28.860282     5.347108\n",
       "min     175.385454  182.016288   -16.116577\n",
       "25%     224.578491  224.637324    -4.794257\n",
       "50%     248.904910  246.617406    -1.980166\n",
       "75%     270.287894  266.937200     2.271459\n",
       "max     311.038227  310.899838    10.243270"
      ]
     },
     "execution_count": 46,
     "metadata": {},
     "output_type": "execute_result"
    }
   ],
   "source": [
    "issue_df.describe()"
   ]
  },
  {
   "cell_type": "markdown",
   "metadata": {},
   "source": [
    "$$\n",
    "\\left\\{\n",
    "\\begin{array}{ll}\n",
    "H_0: & \\mu_1 = \\mu_2 \\\\\n",
    "H_1: & \\mu_1 \\neq \\mu_2\n",
    "\\end{array}\n",
    "\\right.\n",
    "$$\n",
    "\n",
    "doned $\\mu_1$ representa la media de la condición estudiada **ANTES** del tratamiento y $\\mu_2$ representa la media de la condicion estudiada **DESPUÉS**"
   ]
  },
  {
   "cell_type": "code",
   "execution_count": 47,
   "metadata": {},
   "outputs": [
    {
     "data": {
      "text/plain": [
       "Ttest_relResult(statistic=-2.9945735001280593, pvalue=0.003471639955998896)"
      ]
     },
     "execution_count": 47,
     "metadata": {},
     "output_type": "execute_result"
    }
   ],
   "source": [
    "stats.ttest_rel(a = after, b = before)"
   ]
  },
  {
   "cell_type": "markdown",
   "metadata": {},
   "source": [
    "Tenemos evidencias más que significativas para rechazar la $H_0$ ya que el $p_{value}$ es mucho menor que 0.05"
   ]
  },
  {
   "cell_type": "markdown",
   "metadata": {},
   "source": [
    "### ANALIZANDO ERRORES TIPO 1 Y ERRORES TIPO 2"
   ]
  },
  {
   "cell_type": "markdown",
   "metadata": {},
   "source": [
    "#### Errores tipo I y de tipo II:\n",
    "- Error tipo I: $\\alpha$, probabilidad de rechazar $H_0$ cuando esta es verdadera\n",
    "- Error tipo II : $\\beta$ probabilidad de aceptar $H_0$ cuando esta es falsa"
   ]
  },
  {
   "cell_type": "code",
   "execution_count": 61,
   "metadata": {},
   "outputs": [
    {
     "data": {
      "text/plain": [
       "[]"
      ]
     },
     "execution_count": 61,
     "metadata": {},
     "output_type": "execute_result"
    },
    {
     "data": {
      "image/png": "[encoded data removed]",
      "text/plain": [
       "<Figure size 1152x720 with 1 Axes>"
      ]
     },
     "metadata": {
      "needs_background": "light"
     },
     "output_type": "display_data"
    }
   ],
   "source": [
    "plt.figure(figsize=(16,10))\n",
    "\n",
    "\n",
    "plt.fill_between(x=np.arange(-4, -2, 0.01), y1 = stats.norm.pdf(np.arange(-4,-2,0.01)), facecolor=\"red\", alpha = 0.3)\n",
    "plt.fill_between(x=np.arange(-2, 2, 0.01), y1 = stats.norm.pdf(np.arange(-2,2,0.01)), facecolor=\"white\", alpha = 0.3)\n",
    "plt.fill_between(x=np.arange(2, 4, 0.01), y1 = stats.norm.pdf(np.arange(2,4,0.01)), facecolor=\"red\", alpha = 0.6)\n",
    "\n",
    "\n",
    "plt.fill_between(x=np.arange(-4, -2, 0.01), y1 = stats.norm.pdf(np.arange(-4,-2,0.01), loc = 3, scale=2), facecolor=\"white\", alpha = 0.3)\n",
    "plt.fill_between(x=np.arange(-2, 2, 0.01), y1 = stats.norm.pdf(np.arange(-2,2,0.01), loc = 3, scale=2), facecolor=\"blue\", alpha = 0.3)\n",
    "plt.fill_between(x=np.arange(2, 4, 0.01), y1 = stats.norm.pdf(np.arange(2,4,0.01), loc = 3, scale=2), facecolor=\"white\", alpha = 0.3)\n",
    "\n",
    "plt.plot(np.arange(-4,4,0.01), stats.norm.pdf(np.arange(-4,4,0.01)))\n",
    "plt.plot(np.arange(-4,4,0.01), stats.norm.pdf(np.arange(-4,4,0.01), loc=3, scale=2))\n",
    "\n",
    "plt.text(x=-0.8, y=0.15, s=\"Hipotesis nula\")\n",
    "plt.text(x=2.5, y=0.15, s=\"Hipotesis alternativa\")\n",
    "plt.text(x=2.1, y=0.015, s=\"Error tipo I\")\n",
    "plt.text(x=-3.2, y=0.01, s=\"Error tipo I\")\n",
    "plt.text(x=0, y=0.02, s=\"Error tipo II\")\n",
    "\n",
    "plt.plot()"
   ]
  },
  {
   "cell_type": "code",
   "execution_count": 64,
   "metadata": {},
   "outputs": [
    {
     "data": {
      "text/plain": [
       "0.294956061112323"
      ]
     },
     "execution_count": 64,
     "metadata": {},
     "output_type": "execute_result"
    }
   ],
   "source": [
    "lower_quantile = stats.norm.ppf(0.025)\n",
    "upper_quantile = stats.norm.ppf(0.975)\n",
    "\n",
    "low = stats.norm.cdf(lower_quantile, loc = 3, scale = 2)\n",
    "upper = stats.norm.cdf(upper_quantile, loc = 3, scale = 2)\n",
    "\n",
    "upper-low"
   ]
  },
  {
   "cell_type": "code",
   "execution_count": null,
   "metadata": {},
   "outputs": [],
   "source": []
  },
  {
   "cell_type": "code",
   "execution_count": null,
   "metadata": {},
   "outputs": [],
   "source": []
  },
  {
   "cell_type": "code",
   "execution_count": null,
   "metadata": {},
   "outputs": [],
   "source": []
  },
  {
   "cell_type": "code",
   "execution_count": null,
   "metadata": {},
   "outputs": [],
   "source": []
  },
  {
   "cell_type": "code",
   "execution_count": null,
   "metadata": {},
   "outputs": [],
   "source": []
  },
  {
   "cell_type": "code",
   "execution_count": null,
   "metadata": {},
   "outputs": [],
   "source": []
  },
  {
   "cell_type": "code",
   "execution_count": null,
   "metadata": {},
   "outputs": [],
   "source": []
  },
  {
   "cell_type": "code",
   "execution_count": null,
   "metadata": {},
   "outputs": [],
   "source": []
  },
  {
   "cell_type": "code",
   "execution_count": null,
   "metadata": {},
   "outputs": [],
   "source": []
  },
  {
   "cell_type": "code",
   "execution_count": null,
   "metadata": {},
   "outputs": [],
   "source": []
  },
  {
   "cell_type": "code",
   "execution_count": null,
   "metadata": {},
   "outputs": [],
   "source": []
  },
  {
   "cell_type": "code",
   "execution_count": null,
   "metadata": {},
   "outputs": [],
   "source": []
  },
  {
   "cell_type": "code",
   "execution_count": null,
   "metadata": {},
   "outputs": [],
   "source": []
  },
  {
   "cell_type": "code",
   "execution_count": null,
   "metadata": {},
   "outputs": [],
   "source": []
  },
  {
   "cell_type": "code",
   "execution_count": null,
   "metadata": {},
   "outputs": [],
   "source": []
  },
  {
   "cell_type": "code",
   "execution_count": null,
   "metadata": {},
   "outputs": [],
   "source": []
  },
  {
   "cell_type": "code",
   "execution_count": null,
   "metadata": {},
   "outputs": [],
   "source": []
  },
  {
   "cell_type": "code",
   "execution_count": null,
   "metadata": {},
   "outputs": [],
   "source": []
  },
  {
   "cell_type": "code",
   "execution_count": null,
   "metadata": {},
   "outputs": [],
   "source": []
  },
  {
   "cell_type": "code",
   "execution_count": null,
   "metadata": {},
   "outputs": [],
   "source": []
  },
  {
   "cell_type": "code",
   "execution_count": null,
   "metadata": {},
   "outputs": [],
   "source": []
  },
  {
   "cell_type": "code",
   "execution_count": null,
   "metadata": {},
   "outputs": [],
   "source": []
  },
  {
   "cell_type": "code",
   "execution_count": null,
   "metadata": {},
   "outputs": [],
   "source": []
  },
  {
   "cell_type": "code",
   "execution_count": null,
   "metadata": {},
   "outputs": [],
   "source": []
  },
  {
   "cell_type": "code",
   "execution_count": null,
   "metadata": {},
   "outputs": [],
   "source": []
  },
  {
   "cell_type": "code",
   "execution_count": null,
   "metadata": {},
   "outputs": [],
   "source": []
  },
  {
   "cell_type": "code",
   "execution_count": null,
   "metadata": {},
   "outputs": [],
   "source": []
  },
  {
   "cell_type": "code",
   "execution_count": null,
   "metadata": {},
   "outputs": [],
   "source": []
  },
  {
   "cell_type": "code",
   "execution_count": null,
   "metadata": {},
   "outputs": [],
   "source": []
  },
  {
   "cell_type": "code",
   "execution_count": null,
   "metadata": {},
   "outputs": [],
   "source": []
  },
  {
   "cell_type": "code",
   "execution_count": null,
   "metadata": {},
   "outputs": [],
   "source": []
  },
  {
   "cell_type": "code",
   "execution_count": null,
   "metadata": {},
   "outputs": [],
   "source": []
  },
  {
   "cell_type": "code",
   "execution_count": null,
   "metadata": {},
   "outputs": [],
   "source": []
  },
  {
   "cell_type": "code",
   "execution_count": null,
   "metadata": {},
   "outputs": [],
   "source": []
  },
  {
   "cell_type": "code",
   "execution_count": null,
   "metadata": {},
   "outputs": [],
   "source": []
  },
  {
   "cell_type": "code",
   "execution_count": null,
   "metadata": {},
   "outputs": [],
   "source": []
  }
 ],
 "metadata": {
  "kernelspec": {
   "display_name": "Python 3",
   "language": "python",
   "name": "python3"
  },
  "language_info": {
   "codemirror_mode": {
    "name": "ipython",
    "version": 3
   },
   "file_extension": ".py",
   "mimetype": "text/x-python",
   "name": "python",
   "nbconvert_exporter": "python",
   "pygments_lexer": "ipython3",
   "version": "3.7.5"
  }
 },
 "nbformat": 4,
 "nbformat_minor": 4
}
