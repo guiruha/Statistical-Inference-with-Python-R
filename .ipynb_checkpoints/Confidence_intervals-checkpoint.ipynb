{
 "cells": [
  {
   "cell_type": "markdown",
   "metadata": {},
   "source": [
    "## INTERVALOS DE CONFIANZA EN PYTHON"
   ]
  },
  {
   "cell_type": "markdown",
   "metadata": {},
   "source": [
    "**Repaso de estimación puntual**"
   ]
  },
  {
   "cell_type": "code",
   "execution_count": 4,
   "metadata": {},
   "outputs": [],
   "source": [
    "import numpy as np\n",
    "import pandas as pd\n",
    "import scipy.stats as stats\n",
    "import matplotlib.pyplot as plt\n",
    "import random\n",
    "import math"
   ]
  },
  {
   "cell_type": "code",
   "execution_count": 6,
   "metadata": {},
   "outputs": [],
   "source": [
    "np.random.seed(2020)\n",
    "population_ages1 = stats.poisson.rvs(loc = 18, mu = 35, size = 1500000)\n",
    "population_ages2 = stats.poisson.rvs(loc = 18, mu = 15, size = 1000000)"
   ]
  },
  {
   "cell_type": "code",
   "execution_count": 8,
   "metadata": {},
   "outputs": [],
   "source": [
    "population_ages = np.concatenate((population_ages1, population_ages2))"
   ]
  },
  {
   "cell_type": "code",
   "execution_count": 10,
   "metadata": {},
   "outputs": [
    {
     "name": "stdout",
     "output_type": "stream",
     "text": [
      "52.998824666666664\n",
      "32.999049\n",
      "44.9989144\n"
     ]
    }
   ],
   "source": [
    "print(population_ages1.mean())\n",
    "print(population_ages2.mean())\n",
    "print(population_ages.mean())"
   ]
  },
  {
   "cell_type": "code",
   "execution_count": 19,
   "metadata": {},
   "outputs": [
    {
     "data": {
      "text/plain": [
       "array([[<matplotlib.axes._subplots.AxesSubplot object at 0x7f17e00de8d0>]],\n",
       "      dtype=object)"
      ]
     },
     "execution_count": 19,
     "metadata": {},
     "output_type": "execute_result"
    },
    {
     "data": {
      "image/png": "[encoded data removed]",
      "text/plain": [
       "<Figure size 720x360 with 1 Axes>"
      ]
     },
     "metadata": {
      "needs_background": "light"
     },
     "output_type": "display_data"
    }
   ],
   "source": [
    "pd.DataFrame(population_ages).hist(bins = 60, range =(17.5, 77.5),\n",
    "                                  figsize = (10, 5))"
   ]
  },
  {
   "cell_type": "code",
   "execution_count": 20,
   "metadata": {},
   "outputs": [
    {
     "data": {
      "text/plain": [
       "-0.05113528002533029"
      ]
     },
     "execution_count": 20,
     "metadata": {},
     "output_type": "execute_result"
    }
   ],
   "source": [
    "stats.skew(population_ages)"
   ]
  },
  {
   "cell_type": "code",
   "execution_count": 22,
   "metadata": {},
   "outputs": [
    {
     "data": {
      "text/plain": [
       "-1.2235548276771904"
      ]
     },
     "execution_count": 22,
     "metadata": {},
     "output_type": "execute_result"
    }
   ],
   "source": [
    "stats.kurtosis(population_ages)"
   ]
  },
  {
   "cell_type": "code",
   "execution_count": 23,
   "metadata": {},
   "outputs": [],
   "source": [
    "np.random.seed(2020)\n",
    "sample_ages = np.random.choice(population_ages, 500)"
   ]
  },
  {
   "cell_type": "code",
   "execution_count": 25,
   "metadata": {},
   "outputs": [
    {
     "name": "stdout",
     "output_type": "stream",
     "text": [
      "44.79\n"
     ]
    }
   ],
   "source": [
    "print(sample_ages.mean())"
   ]
  },
  {
   "cell_type": "code",
   "execution_count": 26,
   "metadata": {},
   "outputs": [
    {
     "data": {
      "text/plain": [
       "0.2089143999999976"
      ]
     },
     "execution_count": 26,
     "metadata": {},
     "output_type": "execute_result"
    }
   ],
   "source": [
    "population_ages.mean() - sample_ages.mean()"
   ]
  },
  {
   "cell_type": "code",
   "execution_count": 40,
   "metadata": {},
   "outputs": [
    {
     "data": {
      "text/plain": [
       "array([[<matplotlib.axes._subplots.AxesSubplot object at 0x7f17d3a3a590>]],\n",
       "      dtype=object)"
      ]
     },
     "execution_count": 40,
     "metadata": {},
     "output_type": "execute_result"
    },
    {
     "data": {
      "image/png": "[encoded data removed]",
      "text/plain": [
       "<Figure size 720x360 with 1 Axes>"
      ]
     },
     "metadata": {
      "needs_background": "light"
     },
     "output_type": "display_data"
    },
    {
     "data": {
      "image/png": "[encoded data removed]",
      "text/plain": [
       "<Figure size 720x360 with 1 Axes>"
      ]
     },
     "metadata": {
      "needs_background": "light"
     },
     "output_type": "display_data"
    }
   ],
   "source": [
    "pd.DataFrame(population_ages).hist(bins = 60, range =(17.5, 77.5),\n",
    "                                  figsize = (10, 5))\n",
    "pd.DataFrame(sample_ages).hist(bins = 60, range =(17.5, 77.5),\n",
    "                                  figsize = (10, 5))"
   ]
  },
  {
   "cell_type": "code",
   "execution_count": 27,
   "metadata": {},
   "outputs": [],
   "source": [
    "random.seed(22)\n",
    "population_races = (([\"blanca\"]*1000000) + ([\"negra\"]*500000) + \n",
    "                   (['asiatica']*250000 + (['otros']*250000)))"
   ]
  },
  {
   "cell_type": "code",
   "execution_count": 31,
   "metadata": {},
   "outputs": [
    {
     "name": "stdout",
     "output_type": "stream",
     "text": [
      "Proporcion de gente negra:\n",
      "0.2\n",
      "Proporcion de gente asiatica:\n",
      "0.1\n",
      "Proporcion de gente blanca:\n",
      "0.4\n",
      "Proporcion de gente otros:\n",
      "0.1\n"
     ]
    }
   ],
   "source": [
    "for race in set(population_races):\n",
    "    print(\"Proporcion de gente \" + race + \":\")\n",
    "    print(population_races.count(race) / 2500000)"
   ]
  },
  {
   "cell_type": "code",
   "execution_count": 34,
   "metadata": {},
   "outputs": [],
   "source": [
    "random_sample = random.sample(population_races, 100)"
   ]
  },
  {
   "cell_type": "code",
   "execution_count": 35,
   "metadata": {},
   "outputs": [
    {
     "name": "stdout",
     "output_type": "stream",
     "text": [
      "Proporcion de gente negra:\n",
      "0.2\n",
      "Proporcion de gente asiatica:\n",
      "0.1\n",
      "Proporcion de gente blanca:\n",
      "0.4\n",
      "Proporcion de gente otros:\n",
      "0.1\n"
     ]
    }
   ],
   "source": [
    "for race in set(random_sample):\n",
    "    print(\"Proporcion de gente \" + race + \":\")\n",
    "    print(population_races.count(race) / 2500000)"
   ]
  },
  {
   "cell_type": "code",
   "execution_count": 43,
   "metadata": {},
   "outputs": [
    {
     "data": {
      "text/plain": [
       "<matplotlib.axes._subplots.AxesSubplot at 0x7f17d33b3950>"
      ]
     },
     "execution_count": 43,
     "metadata": {},
     "output_type": "execute_result"
    },
    {
     "data": {
      "image/png": "[encoded data removed]",
      "text/plain": [
       "<Figure size 720x720 with 1 Axes>"
      ]
     },
     "metadata": {
      "needs_background": "light"
     },
     "output_type": "display_data"
    }
   ],
   "source": [
    "np.random.sample(1968)\n",
    "point_estimates = []\n",
    "\n",
    "for x in range(200):\n",
    "    sample = np.random.choice(population_ages, size = 500)\n",
    "    point_estimates.append(sample.mean())\n",
    "\n",
    "pd.DataFrame(point_estimates).plot(kind='density', figsize = (10,10))"
   ]
  },
  {
   "cell_type": "code",
   "execution_count": 44,
   "metadata": {},
   "outputs": [
    {
     "data": {
      "text/plain": [
       "44.9604"
      ]
     },
     "execution_count": 44,
     "metadata": {},
     "output_type": "execute_result"
    }
   ],
   "source": [
    "np.array(point_estimates).mean()"
   ]
  },
  {
   "cell_type": "markdown",
   "metadata": {},
   "source": [
    "**Intervalos de confianza**"
   ]
  },
  {
   "cell_type": "code",
   "execution_count": 50,
   "metadata": {},
   "outputs": [
    {
     "data": {
      "text/plain": [
       "(44.21263250684691, 45.58736749315309)"
      ]
     },
     "execution_count": 50,
     "metadata": {},
     "output_type": "execute_result"
    }
   ],
   "source": [
    "np.random.seed(2020)\n",
    "\n",
    "n = 1000\n",
    "alpha = 0.05\n",
    "sample = np.random.choice(population_ages, size = n)\n",
    "sample_mean = sample.mean()\n",
    "\n",
    "z_critical = stats.norm.ppf(q = 1-alpha/2)\n",
    "\n",
    "sigma = population_ages.std() ## sigma de la población\n",
    "\n",
    "sample_error = z_critical * sigma / math.sqrt(n)\n",
    "\n",
    "ci = (sample_mean - sample_error, sample_mean + sample_error)\n",
    "ci"
   ]
  },
  {
   "cell_type": "code",
   "execution_count": 52,
   "metadata": {},
   "outputs": [],
   "source": [
    "np.random.seed(2020)\n",
    "\n",
    "n = 1000\n",
    "alpha = 0.05\n",
    "sample = np.random.choice(population_ages, size = n)\n",
    "sample_mean = sample.mean()\n",
    "intervals = []\n",
    "sample_means = []\n",
    "z_critical = stats.norm.ppf(q = 1-alpha/2)\n",
    "sample_error = z_critical * sigma / math.sqrt(n)\n",
    "\n",
    "\n",
    "for sample in range(100):\n",
    "    sample = np.random.choice(population_ages, size = n)\n",
    "    sample_mean = sample.mean()\n",
    "    sample_means.append(sample_mean)\n",
    "\n",
    "\n",
    "    sigma = population_ages.std() ## sigma de la población\n",
    "\n",
    "    ci = (sample_mean - sample_error, sample_mean + sample_error)\n",
    "    intervals.append(ci)"
   ]
  },
  {
   "cell_type": "code",
   "execution_count": 56,
   "metadata": {},
   "outputs": [
    {
     "data": {
      "text/plain": [
       "<matplotlib.collections.LineCollection at 0x7f17d3395bd0>"
      ]
     },
     "execution_count": 56,
     "metadata": {},
     "output_type": "execute_result"
    },
    {
     "data": {
      "image/png": "[encoded data removed]",
      "text/plain": [
       "<Figure size 720x720 with 1 Axes>"
      ]
     },
     "metadata": {
      "needs_background": "light"
     },
     "output_type": "display_data"
    }
   ],
   "source": [
    "plt.figure(figsize = (10, 10))\n",
    "plt.errorbar(x = np.arange(0.1, 100, 1), y = sample_means, yerr=[(top-bottom)/2 for top, bottom in intervals],\n",
    "            fmt = 'o')\n",
    "plt.hlines(xmin = 0, xmax = 100, y = population_ages.mean(), linewidth = 2.0, color = 'red')"
   ]
  },
  {
   "cell_type": "markdown",
   "metadata": {},
   "source": [
    "**En caso de que la desvicación típica ($\\sigma$) no es conocida**"
   ]
  },
  {
   "cell_type": "code",
   "execution_count": 60,
   "metadata": {},
   "outputs": [],
   "source": [
    "np.random.seed(2020)\n",
    "\n",
    "n = 1000\n",
    "alpha = 0.05\n",
    "sample = np.random.choice(population_ages, size = n)\n",
    "sample_mean = sample.mean()\n",
    "intervals = []\n",
    "sample_means = []\n",
    "t_critical = stats.t.ppf(q = 1-alpha/2, df = n - 1)\n",
    "sample_error = t_critical * sigma / math.sqrt(n)\n",
    "\n",
    "\n",
    "for sample in range(100):\n",
    "    sample = np.random.choice(population_ages, size = n)\n",
    "    sample_mean = sample.mean()\n",
    "    sample_means.append(sample_mean)\n",
    "\n",
    "\n",
    "    sample_sd = sample.std(ddof = -1) ## sigma de la muestra\n",
    "    # Añadimos ddof para mostrar que es muestral y por tanto multiplica por n - 1\n",
    "\n",
    "    ci = (sample_mean - sample_error, sample_mean + sample_error)\n",
    "    intervals.append(ci)"
   ]
  },
  {
   "cell_type": "code",
   "execution_count": 61,
   "metadata": {},
   "outputs": [
    {
     "data": {
      "text/plain": [
       "<matplotlib.collections.LineCollection at 0x7f17d3888dd0>"
      ]
     },
     "execution_count": 61,
     "metadata": {},
     "output_type": "execute_result"
    },
    {
     "data": {
      "image/png": "[encoded data removed]",
      "text/plain": [
       "<Figure size 720x720 with 1 Axes>"
      ]
     },
     "metadata": {
      "needs_background": "light"
     },
     "output_type": "display_data"
    }
   ],
   "source": [
    "plt.figure(figsize = (10, 10))\n",
    "plt.errorbar(x = np.arange(0.1, 100, 1), y = sample_means, yerr=[(top-bottom)/2 for top, bottom in intervals],\n",
    "            fmt = 'o')\n",
    "plt.hlines(xmin = 0, xmax = 100, y = sample_ages.mean(), linewidth = 2.0, color = 'red')"
   ]
  },
  {
   "cell_type": "code",
   "execution_count": 65,
   "metadata": {},
   "outputs": [
    {
     "data": {
      "text/plain": [
       "(44.127639124899474, 45.488360875100526)"
      ]
     },
     "execution_count": 65,
     "metadata": {},
     "output_type": "execute_result"
    }
   ],
   "source": [
    "stats.t.interval(alpha = 0.95, df = n - 1, loc = sample_mean,\n",
    "                scale = sample_sd/math.sqrt(n))\n",
    "# Esta función automatiza el proceso"
   ]
  },
  {
   "cell_type": "markdown",
   "metadata": {},
   "source": [
    "**Intervalos de confianza para proporciones**"
   ]
  },
  {
   "cell_type": "code",
   "execution_count": 74,
   "metadata": {},
   "outputs": [
    {
     "data": {
      "text/plain": [
       "(-0.00028227913108839223, 0.00033127913108839223)"
      ]
     },
     "execution_count": 74,
     "metadata": {},
     "output_type": "execute_result"
    }
   ],
   "source": [
    "alpha = 0.05\n",
    "z_critical = stats.norm.ppf(q = 1-alpha/2)\n",
    "p_hat = random_sample.count(\"blanca\") / len(population_races) \n",
    "\n",
    "sample_error = z_critical * math.sqrt((p_hat*(1-p_hat)/n))\n",
    "\n",
    "ci = (p_hat - sample_error, p_hat + sample_error)\n",
    "ci"
   ]
  },
  {
   "cell_type": "code",
   "execution_count": 75,
   "metadata": {},
   "outputs": [
    {
     "data": {
      "text/plain": [
       "(-0.00028227913108839223, 0.00033127913108839223)"
      ]
     },
     "execution_count": 75,
     "metadata": {},
     "output_type": "execute_result"
    }
   ],
   "source": [
    "stats.norm.interval(alpha = 0.95, loc = p_hat,\n",
    "                   scale = math.sqrt(p_hat*(1-p_hat)/n))"
   ]
  },
  {
   "cell_type": "markdown",
   "metadata": {},
   "source": [
    "**Como interpretar el intervalo de confianza**"
   ]
  },
  {
   "cell_type": "code",
   "execution_count": 5,
   "metadata": {},
   "outputs": [],
   "source": [
    "shape, scale = 2.0, 2.0 # la media sera 4 y la desviación será 2*sqrt(2)"
   ]
  },
  {
   "cell_type": "code",
   "execution_count": 7,
   "metadata": {},
   "outputs": [],
   "source": [
    "s = np.random.gamma(shape, scale, 1000000)\n",
    "\n",
    "mu = shape*scale\n",
    "sigma = scale*np.sqrt(shape)"
   ]
  },
  {
   "cell_type": "code",
   "execution_count": 13,
   "metadata": {},
   "outputs": [
    {
     "data": {
      "image/png": "[encoded data removed]",
      "text/plain": [
       "<Figure size 864x576 with 1 Axes>"
      ]
     },
     "metadata": {
      "needs_background": "light"
     },
     "output_type": "display_data"
    }
   ],
   "source": [
    "meansample = []\n",
    "sample_size = 500\n",
    "\n",
    "for i in range(0, 50000):\n",
    "    sample = random.choices(s, k=sample_size)\n",
    "    meansample.append(sum(sample)/len(sample))\n",
    "    \n",
    "plt.figure(figsize = (12, 8))\n",
    "plt.hist(meansample, 200, density = True, color = \"lightblue\")\n",
    "plt.show()"
   ]
  },
  {
   "cell_type": "code",
   "execution_count": 21,
   "metadata": {},
   "outputs": [
    {
     "data": {
      "image/png": "[encoded data removed]",
      "text/plain": [
       "<Figure size 1080x720 with 1 Axes>"
      ]
     },
     "metadata": {
      "needs_background": "light"
     },
     "output_type": "display_data"
    }
   ],
   "source": [
    "plt.figure(figsize = (15, 10))\n",
    "plt.hist(meansample, 200, density = True, color = \"lightblue\")\n",
    "plt.plot([mu, mu], [0, 3.5], 'k-', lw = 3, color = 'red')\n",
    "plt.plot([mu-1.96*sigma/np.sqrt(sample_size), mu-1.96*sigma/np.sqrt(sample_size)],\n",
    "        [0, 3.5], 'k--', lw = 2, color = 'navy')\n",
    "plt.plot([mu+1.96*sigma/np.sqrt(sample_size), mu+1.96*sigma/np.sqrt(sample_size)],\n",
    "        [0, 3.5], 'k--', lw = 2, color = 'navy')\n",
    "plt.show()"
   ]
  },
  {
   "cell_type": "code",
   "execution_count": 34,
   "metadata": {},
   "outputs": [
    {
     "data": {
      "image/png": "[encoded data removed]",
      "text/plain": [
       "<Figure size 1440x720 with 1 Axes>"
      ]
     },
     "metadata": {
      "needs_background": "light"
     },
     "output_type": "display_data"
    }
   ],
   "source": [
    "sample_data = np.random.choice(s, size = sample_size)\n",
    "x_bar = sample_data.mean()\n",
    "ss = sample_data.std()\n",
    "\n",
    "plt.figure(figsize=(20,10))\n",
    "plt.hist(meansample, 200, density=True, color=\"lightblue\")\n",
    "plt.plot([mu,mu], [0, 3.5], 'k-', lw=4, color='green')\n",
    "plt.plot([mu-1.96*sigma/np.sqrt(sample_size), mu-1.96*sigma/np.sqrt(sample_size)], [0, 3.5], 'k--', lw=2, color=\"navy\")\n",
    "plt.plot([mu+1.96*sigma/np.sqrt(sample_size), mu+1.96*sigma/np.sqrt(sample_size)], [0, 3.5], 'k--', lw=2, color=\"navy\")\n",
    "plt.plot([x_bar, x_bar], [0,3.5], 'k-', lw=2, color=\"red\")\n",
    "plt.plot([x_bar-1.96*ss/np.sqrt(sample_size), x_bar-1.96*ss/np.sqrt(sample_size)], [0, 3.5], 'k-', lw=1, color=\"red\")\n",
    "plt.plot([x_bar+1.96*ss/np.sqrt(sample_size), x_bar+1.96*ss/np.sqrt(sample_size)], [0, 3.5], 'k-', lw=1, color=\"red\")\n",
    "plt.gca().add_patch(plt.Rectangle((x_bar-1.96*ss/np.sqrt(sample_size), 0), 2*(1.96*ss/np.sqrt(sample_size)), 3.5, fill=True, fc=(0.9, 0.3, 0.2, 0.15)))\n",
    "plt.show()"
   ]
  },
  {
   "cell_type": "code",
   "execution_count": null,
   "metadata": {},
   "outputs": [],
   "source": []
  }
 ],
 "metadata": {
  "kernelspec": {
   "display_name": "Python 3",
   "language": "python",
   "name": "python3"
  },
  "language_info": {
   "codemirror_mode": {
    "name": "ipython",
    "version": 3
   },
   "file_extension": ".py",
   "mimetype": "text/x-python",
   "name": "python",
   "nbconvert_exporter": "python",
   "pygments_lexer": "ipython3",
   "version": "3.7.5"
  }
 },
 "nbformat": 4,
 "nbformat_minor": 4
}
