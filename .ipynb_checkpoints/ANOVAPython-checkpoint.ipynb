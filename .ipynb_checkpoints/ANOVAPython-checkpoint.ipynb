{
 "cells": [
  {
   "cell_type": "markdown",
   "metadata": {},
   "source": [
    "# ANÁLISIS DE LA VARIANZA"
   ]
  },
  {
   "cell_type": "markdown",
   "metadata": {},
   "source": [
    "### ANOVA de una vía"
   ]
  },
  {
   "cell_type": "code",
   "execution_count": 57,
   "metadata": {},
   "outputs": [],
   "source": [
    "import numpy as np\n",
    "import pandas as pd\n",
    "import matplotlib.pyplot as plt\n",
    "import scipy.stats as stats"
   ]
  },
  {
   "cell_type": "code",
   "execution_count": 60,
   "metadata": {},
   "outputs": [],
   "source": [
    "np.random.seed(2020)\n",
    "voters_et = np.random.choice(a =[\"asian\", \"afroamerican\", \"hispano\", \"cuacasian\", \"others\"], p = [0.05, 0.20, 0.10, 0.50, 0.15], size = 1000)\n",
    "voters_age = stats.poisson.rvs(loc = 18, mu = 25, size = 1000)\n",
    "\n",
    "voters = pd.DataFrame({\"etnicity\": voters_et, \"age\": voters_age})\n",
    "treatments = voters.groupby(\"etnicity\").groups"
   ]
  },
  {
   "cell_type": "code",
   "execution_count": 61,
   "metadata": {},
   "outputs": [
    {
     "data": {
      "text/plain": [
       "{'afroamerican': Int64Index([  5,   9,  10,  16,  18,  21,  28,  30,  38,  44,\n",
       "             ...\n",
       "             925, 934, 938, 956, 961, 972, 982, 986, 993, 995],\n",
       "            dtype='int64', length=212),\n",
       " 'asian': Int64Index([ 26,  55,  65,  73,  85, 109, 110, 133, 151, 162, 183, 184, 275,\n",
       "             278, 290, 308, 331, 349, 368, 395, 398, 403, 404, 517, 518, 519,\n",
       "             539, 623, 629, 679, 688, 711, 747, 760, 815, 834, 894, 897, 898,\n",
       "             901, 911, 919, 931, 943, 951, 954, 970, 980, 988],\n",
       "            dtype='int64'),\n",
       " 'cuacasian': Int64Index([  2,  11,  12,  13,  15,  17,  22,  24,  25,  27,\n",
       "             ...\n",
       "             977, 978, 981, 983, 985, 989, 991, 996, 997, 999],\n",
       "            dtype='int64', length=499),\n",
       " 'hispano': Int64Index([  3,   4,   6,   7,  14,  19,  51,  54,  74,  95, 100, 102, 104,\n",
       "             119, 126, 142, 155, 168, 193, 195, 202, 217, 225, 235, 243, 281,\n",
       "             303, 305, 323, 355, 366, 376, 392, 394, 415, 423, 424, 431, 433,\n",
       "             441, 447, 449, 458, 460, 467, 469, 477, 483, 487, 488, 490, 535,\n",
       "             540, 550, 559, 565, 579, 588, 606, 624, 628, 692, 694, 701, 703,\n",
       "             705, 706, 740, 761, 764, 765, 774, 778, 820, 821, 827, 828, 832,\n",
       "             857, 876, 879, 880, 889, 912, 921, 928, 930, 939, 940, 941, 948,\n",
       "             949, 957, 967, 968, 998],\n",
       "            dtype='int64'),\n",
       " 'others': Int64Index([  0,   1,   8,  20,  23,  31,  34,  43,  57,  66,\n",
       "             ...\n",
       "             955, 958, 963, 965, 979, 984, 987, 990, 992, 994],\n",
       "            dtype='int64', length=144)}"
      ]
     },
     "execution_count": 61,
     "metadata": {},
     "output_type": "execute_result"
    }
   ],
   "source": [
    "treatments"
   ]
  },
  {
   "cell_type": "code",
   "execution_count": 67,
   "metadata": {},
   "outputs": [],
   "source": [
    "asian = voters_age[treatments[\"asian\"]]\n",
    "cauca = voters_age[treatments[\"cuacasian\"]]\n",
    "afroam = voters_age[treatments[\"afroamerican\"]]\n",
    "hispan = voters_age[treatments[\"hispano\"]]\n",
    "other = voters_age[treatments[\"others\"]]"
   ]
  },
  {
   "cell_type": "markdown",
   "metadata": {},
   "source": [
    "$$\n",
    "\\left\\{\n",
    "\\begin{array}{ll}\n",
    "H_0: & \\mu_1 = \\mu_2 = \\mu_3 = \\mu_4 = \\mu_5 \\\\\n",
    "H_1: & \\exists i,j : \\mu_i \\neq \\mu_j\n",
    "\\end{array}\n",
    "\\right.\n",
    "$$"
   ]
  },
  {
   "cell_type": "code",
   "execution_count": 77,
   "metadata": {},
   "outputs": [],
   "source": [
    "F, pvalue = stats.f_oneway(asian, cauca, afroam, hispan, other)"
   ]
  },
  {
   "cell_type": "code",
   "execution_count": 70,
   "metadata": {},
   "outputs": [
    {
     "name": "stdout",
     "output_type": "stream",
     "text": [
      "Estadistico F = 0.7703204167829092 con p-value de 0.5445923582928245\n"
     ]
    }
   ],
   "source": [
    "print(\"Estadistico F = {} con p-value de {}\".format(F, pvalue))"
   ]
  },
  {
   "cell_type": "code",
   "execution_count": 73,
   "metadata": {},
   "outputs": [],
   "source": [
    "import seaborn as sns"
   ]
  },
  {
   "cell_type": "code",
   "execution_count": 75,
   "metadata": {},
   "outputs": [
    {
     "data": {
      "text/plain": [
       "<matplotlib.axes._subplots.AxesSubplot at 0x7f4c84494208>"
      ]
     },
     "execution_count": 75,
     "metadata": {},
     "output_type": "execute_result"
    },
    {
     "data": {
      "image/png": "[encoded data removed]",
      "text/plain": [
       "<Figure size 432x288 with 1 Axes>"
      ]
     },
     "metadata": {},
     "output_type": "display_data"
    }
   ],
   "source": [
    "plt.style.use(\"ggplot\")\n",
    "sns.boxplot(x=voters[\"etnicity\"], y = voters[\"age\"])"
   ]
  },
  {
   "cell_type": "markdown",
   "metadata": {},
   "source": [
    "$$p = P(F_{k-1, N-k} \\geq F_0 = \\frac{MS_{Tr}}{MS_E})$$"
   ]
  },
  {
   "cell_type": "code",
   "execution_count": 78,
   "metadata": {},
   "outputs": [
    {
     "name": "stdout",
     "output_type": "stream",
     "text": [
      "Aceptamos la Hipótesis Nula\n"
     ]
    }
   ],
   "source": [
    "if pvalue > 0.05:\n",
    "    print(\"Aceptamos la Hipótesis Nula\")\n",
    "else:\n",
    "    print(\"Rechazamos la Hipótesis Nula\")"
   ]
  },
  {
   "cell_type": "markdown",
   "metadata": {},
   "source": [
    "### ANOVA de una vía con comparación por pares"
   ]
  },
  {
   "cell_type": "code",
   "execution_count": 80,
   "metadata": {},
   "outputs": [],
   "source": [
    "np.random.seed(2020)\n",
    "voters_et = np.random.choice(a =[\"asian\", \"afroamerican\", \"hispano\", \"cuacasian\", \"others\"], p = [0.05, 0.20, 0.10, 0.50, 0.15], size = 1000)\n",
    "cauca_ages = stats.poisson.rvs(loc = 18, mu = 33, size = 1000)\n",
    "voters_age = stats.poisson.rvs(loc = 18, mu = 28, size = 1000)\n",
    "voters_age = np.where(voters_et == \"cuacasian\", cauca_ages, voters_age)"
   ]
  },
  {
   "cell_type": "code",
   "execution_count": 81,
   "metadata": {},
   "outputs": [],
   "source": [
    "asian = voters_age[treatments[\"asian\"]]\n",
    "cauca = voters_age[treatments[\"cuacasian\"]]\n",
    "afroam = voters_age[treatments[\"afroamerican\"]]\n",
    "hispan = voters_age[treatments[\"hispano\"]]\n",
    "other = voters_age[treatments[\"others\"]]"
   ]
  },
  {
   "cell_type": "code",
   "execution_count": 82,
   "metadata": {},
   "outputs": [
    {
     "data": {
      "text/plain": [
       "F_onewayResult(statistic=51.28004375010266, pvalue=2.7373517250659856e-39)"
      ]
     },
     "execution_count": 82,
     "metadata": {},
     "output_type": "execute_result"
    }
   ],
   "source": [
    "stats.f_oneway(asian, cauca, afroam, hispan, other)"
   ]
  },
  {
   "cell_type": "code",
   "execution_count": 86,
   "metadata": {},
   "outputs": [
    {
     "data": {
      "text/plain": [
       "[['asian', 'cuacasian'],\n",
       " ['asian', 'afroamerican'],\n",
       " ['asian', 'hispano'],\n",
       " ['asian', 'others'],\n",
       " ['cuacasian', 'afroamerican'],\n",
       " ['cuacasian', 'hispano'],\n",
       " ['cuacasian', 'others'],\n",
       " ['afroamerican', 'hispano'],\n",
       " ['afroamerican', 'others'],\n",
       " ['hispano', 'others']]"
      ]
     },
     "execution_count": 86,
     "metadata": {},
     "output_type": "execute_result"
    }
   ],
   "source": [
    "etnicity = [\"asian\", \"cuacasian\", \"afroamerican\", \"hispano\", \"others\"]\n",
    "etn_pairs = []\n",
    "for etnicity1 in range(4):\n",
    "    for etnicity2 in range(etnicity1+1, 5):\n",
    "        etn_pairs.append([etnicity[etnicity1], etnicity[etnicity2]])\n",
    "etn_pairs    "
   ]
  },
  {
   "cell_type": "code",
   "execution_count": 90,
   "metadata": {},
   "outputs": [
    {
     "name": "stdout",
     "output_type": "stream",
     "text": [
      "****Comparación de las poblaciones asian y cuacasian\n",
      "pvalue =  7.10569287093096e-11\n",
      "****Comparación de las poblaciones asian y afroamerican\n",
      "pvalue =  0.32098632966122376\n",
      "****Comparación de las poblaciones asian y hispano\n",
      "pvalue =  0.34204268946520555\n",
      "****Comparación de las poblaciones asian y others\n",
      "pvalue =  0.4722311475285279\n",
      "****Comparación de las poblaciones cuacasian y afroamerican\n",
      "pvalue =  1.624500057732073e-24\n",
      "****Comparación de las poblaciones cuacasian y hispano\n",
      "pvalue =  4.3410166763958336e-14\n",
      "****Comparación de las poblaciones cuacasian y others\n",
      "pvalue =  5.732623768900903e-19\n",
      "****Comparación de las poblaciones afroamerican y hispano\n",
      "pvalue =  0.990565756041685\n",
      "****Comparación de las poblaciones afroamerican y others\n",
      "pvalue =  0.8061025588820575\n",
      "****Comparación de las poblaciones hispano y others\n",
      "pvalue =  0.8327925275035069\n"
     ]
    }
   ],
   "source": [
    "for etn1, etn2 in etn_pairs:\n",
    "    print(\"****Comparación de las poblaciones {} y {}\".format(etn1, etn2))\n",
    "    tt = stats.ttest_ind(voters_age[treatments[etn1]], voters_age[treatments[etn2]], equal_var = True)\n",
    "    print('pvalue = ',tt[1])"
   ]
  },
  {
   "cell_type": "code",
   "execution_count": 95,
   "metadata": {},
   "outputs": [],
   "source": [
    "from statsmodels.stats.multicomp import pairwise_tukeyhsd"
   ]
  },
  {
   "cell_type": "code",
   "execution_count": 100,
   "metadata": {},
   "outputs": [],
   "source": [
    "tukey = pairwise_tukeyhsd(endog = voters_age,\n",
    "                           groups = voters_et,\n",
    "                           alpha = 0.05)"
   ]
  },
  {
   "cell_type": "code",
   "execution_count": 101,
   "metadata": {},
   "outputs": [
    {
     "data": {
      "text/html": [
       "<table class=\"simpletable\">\n",
       "<caption>Multiple Comparison of Means - Tukey HSD, FWER=0.05</caption>\n",
       "<tr>\n",
       "     <th>group1</th>     <th>group2</th>   <th>meandiff</th>  <th>p-adj</th>  <th>lower</th>   <th>upper</th>  <th>reject</th>\n",
       "</tr>\n",
       "<tr>\n",
       "  <td>afroamerican</td>   <td>asian</td>    <td>-0.8135</td> <td>0.8844</td> <td>-3.236</td>   <td>1.609</td>   <td>False</td>\n",
       "</tr>\n",
       "<tr>\n",
       "  <td>afroamerican</td> <td>cuacasian</td>  <td>4.9346</td>   <td>0.001</td> <td>3.6817</td>  <td>6.1875</td>   <td>True</td> \n",
       "</tr>\n",
       "<tr>\n",
       "  <td>afroamerican</td>  <td>hispano</td>   <td>0.0075</td>    <td>0.9</td>  <td>-1.8726</td> <td>1.8876</td>   <td>False</td>\n",
       "</tr>\n",
       "<tr>\n",
       "  <td>afroamerican</td>  <td>others</td>    <td>-0.1453</td>   <td>0.9</td>  <td>-1.7957</td> <td>1.5051</td>   <td>False</td>\n",
       "</tr>\n",
       "<tr>\n",
       "      <td>asian</td>    <td>cuacasian</td>  <td>5.7481</td>   <td>0.001</td> <td>3.4602</td>  <td>8.0361</td>   <td>True</td> \n",
       "</tr>\n",
       "<tr>\n",
       "      <td>asian</td>     <td>hispano</td>    <td>0.821</td>    <td>0.9</td>  <td>-1.8622</td> <td>3.5042</td>   <td>False</td>\n",
       "</tr>\n",
       "<tr>\n",
       "      <td>asian</td>     <td>others</td>    <td>0.6682</td>    <td>0.9</td>  <td>-1.8594</td> <td>3.1958</td>   <td>False</td>\n",
       "</tr>\n",
       "<tr>\n",
       "    <td>cuacasian</td>   <td>hispano</td>   <td>-4.9271</td>  <td>0.001</td> <td>-6.6304</td> <td>-3.2239</td>  <td>True</td> \n",
       "</tr>\n",
       "<tr>\n",
       "    <td>cuacasian</td>   <td>others</td>    <td>-5.0799</td>  <td>0.001</td> <td>-6.5256</td> <td>-3.6342</td>  <td>True</td> \n",
       "</tr>\n",
       "<tr>\n",
       "     <td>hispano</td>    <td>others</td>    <td>-0.1528</td>   <td>0.9</td>  <td>-2.1665</td> <td>1.8609</td>   <td>False</td>\n",
       "</tr>\n",
       "</table>"
      ],
      "text/plain": [
       "<class 'statsmodels.iolib.table.SimpleTable'>"
      ]
     },
     "execution_count": 101,
     "metadata": {},
     "output_type": "execute_result"
    }
   ],
   "source": [
    "tukey.summary()"
   ]
  },
  {
   "cell_type": "code",
   "execution_count": 107,
   "metadata": {},
   "outputs": [
    {
     "data": {
      "text/plain": [
       "<matplotlib.collections.LineCollection at 0x7f4c83571f60>"
      ]
     },
     "execution_count": 107,
     "metadata": {},
     "output_type": "execute_result"
    },
    {
     "data": {
      "image/png": "[encoded data removed]",
      "text/plain": [
       "<Figure size 720x432 with 1 Axes>"
      ]
     },
     "metadata": {},
     "output_type": "display_data"
    }
   ],
   "source": [
    "tukey.plot_simultaneous()\n",
    "plt.vlines(x = 51.28004375010266, ymin = -0.5, ymax = 5, color = \"red\")"
   ]
  },
  {
   "cell_type": "code",
   "execution_count": 108,
   "metadata": {},
   "outputs": [
    {
     "data": {
      "text/plain": [
       "<matplotlib.axes._subplots.AxesSubplot at 0x7f4c8349cc18>"
      ]
     },
     "execution_count": 108,
     "metadata": {},
     "output_type": "execute_result"
    },
    {
     "data": {
      "image/png": "[encoded data removed]",
      "text/plain": [
       "<Figure size 432x288 with 1 Axes>"
      ]
     },
     "metadata": {},
     "output_type": "display_data"
    }
   ],
   "source": [
    "sns.boxplot(x = voters[\"etnicity\"], y = voters[\"age\"])"
   ]
  },
  {
   "cell_type": "markdown",
   "metadata": {},
   "source": [
    "### Test de Normalidad y Homocedasticidad"
   ]
  },
  {
   "cell_type": "markdown",
   "metadata": {},
   "source": [
    "#### Normalidad de todas las subpoblaciones"
   ]
  },
  {
   "cell_type": "code",
   "execution_count": 112,
   "metadata": {},
   "outputs": [
    {
     "name": "stderr",
     "output_type": "stream",
     "text": [
      "/home/guillem/anaconda3/lib/python3.7/site-packages/statsmodels/stats/_lilliefors.py:272: FutureWarning: The default pvalmethod will change from \"approx\" to \"table\" after 0.11. The \"table\" method uses values from a very large simulation and is more accurate.  Explicitly set this parameter to \"approx\" or \"table\" to silence this warning\n",
      "  warnings.warn(msg, FutureWarning)\n"
     ]
    },
    {
     "data": {
      "text/plain": [
       "(0.10687211099450733, 0.1835675848153336)"
      ]
     },
     "execution_count": 112,
     "metadata": {},
     "output_type": "execute_result"
    }
   ],
   "source": [
    "from statsmodels.stats.diagnostic import lilliefors\n",
    "lilliefors(x = asian, dist = \"norm\")"
   ]
  },
  {
   "cell_type": "code",
   "execution_count": 115,
   "metadata": {},
   "outputs": [
    {
     "data": {
      "text/plain": [
       "(0.055744629813792745, 0.0008179896278094958)"
      ]
     },
     "execution_count": 115,
     "metadata": {},
     "output_type": "execute_result"
    }
   ],
   "source": [
    "lilliefors(x = cauca, dist = \"norm\")"
   ]
  },
  {
   "cell_type": "code",
   "execution_count": 116,
   "metadata": {},
   "outputs": [
    {
     "data": {
      "text/plain": [
       "(0.07319733042103849, 0.05668875874657659)"
      ]
     },
     "execution_count": 116,
     "metadata": {},
     "output_type": "execute_result"
    }
   ],
   "source": [
    "lilliefors(x = other, dist = \"norm\")"
   ]
  },
  {
   "cell_type": "code",
   "execution_count": 117,
   "metadata": {},
   "outputs": [
    {
     "data": {
      "text/plain": [
       "(0.07809391861794535, 0.003151398370495719)"
      ]
     },
     "execution_count": 117,
     "metadata": {},
     "output_type": "execute_result"
    }
   ],
   "source": [
    "lilliefors(x = afroam, dist = \"norm\")"
   ]
  },
  {
   "cell_type": "code",
   "execution_count": 114,
   "metadata": {},
   "outputs": [
    {
     "data": {
      "text/plain": [
       "(0.08128860203911564, 0.14012486239267652)"
      ]
     },
     "execution_count": 114,
     "metadata": {},
     "output_type": "execute_result"
    }
   ],
   "source": [
    "lilliefors(x = hispan, dist = \"norm\")"
   ]
  },
  {
   "cell_type": "markdown",
   "metadata": {},
   "source": [
    "Como hemos generado las muestras con una distribución de poisson comprobamos que los contrates que hemos hecho no sirve porque no estamos cumpliendo la condición de normalidad"
   ]
  },
  {
   "cell_type": "markdown",
   "metadata": {},
   "source": [
    "#### Homocedasticidad"
   ]
  },
  {
   "cell_type": "code",
   "execution_count": 119,
   "metadata": {},
   "outputs": [],
   "source": [
    "from scipy.stats import bartlett"
   ]
  },
  {
   "cell_type": "code",
   "execution_count": 120,
   "metadata": {},
   "outputs": [
    {
     "data": {
      "text/plain": [
       "BartlettResult(statistic=9.006144403879224, pvalue=0.06094608345297113)"
      ]
     },
     "execution_count": 120,
     "metadata": {},
     "output_type": "execute_result"
    }
   ],
   "source": [
    "bartlett(asian, cauca, afroam, hispan, other)"
   ]
  },
  {
   "cell_type": "code",
   "execution_count": 122,
   "metadata": {},
   "outputs": [
    {
     "data": {
      "text/plain": [
       "LeveneResult(statistic=2.042974941249007, pvalue=0.08635000760725736)"
      ]
     },
     "execution_count": 122,
     "metadata": {},
     "output_type": "execute_result"
    }
   ],
   "source": [
    "from scipy.stats import levene\n",
    "levene(asian, cauca, afroam, hispan, other)"
   ]
  },
  {
   "cell_type": "code",
   "execution_count": null,
   "metadata": {},
   "outputs": [],
   "source": []
  },
  {
   "cell_type": "code",
   "execution_count": null,
   "metadata": {},
   "outputs": [],
   "source": []
  },
  {
   "cell_type": "code",
   "execution_count": null,
   "metadata": {},
   "outputs": [],
   "source": []
  }
 ],
 "metadata": {
  "kernelspec": {
   "display_name": "Python 3",
   "language": "python",
   "name": "python3"
  },
  "language_info": {
   "codemirror_mode": {
    "name": "ipython",
    "version": 3
   },
   "file_extension": ".py",
   "mimetype": "text/x-python",
   "name": "python",
   "nbconvert_exporter": "python",
   "pygments_lexer": "ipython3",
   "version": "3.7.3"
  }
 },
 "nbformat": 4,
 "nbformat_minor": 4
}
