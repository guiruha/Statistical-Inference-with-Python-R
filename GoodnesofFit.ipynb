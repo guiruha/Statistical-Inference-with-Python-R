{
 "cells": [
  {
   "cell_type": "markdown",
   "metadata": {},
   "source": [
    "# BONDAD DE AJUSTE"
   ]
  },
  {
   "cell_type": "markdown",
   "metadata": {},
   "source": [
    "## Test de Bondad de Ajuste con el test $\\chi^2$ de Pearson"
   ]
  },
  {
   "cell_type": "code",
   "execution_count": 2,
   "metadata": {},
   "outputs": [],
   "source": [
    "import numpy as np\n",
    "import pandas as pd\n",
    "import scipy.stats as stats"
   ]
  },
  {
   "cell_type": "code",
   "execution_count": 3,
   "metadata": {},
   "outputs": [],
   "source": [
    "population = pd.DataFrame(['white']*1000000+['hispano']*600000\n",
    "                          +['black']*500000+['asian']*150000\n",
    "                         + ['other']*350000)"
   ]
  },
  {
   "cell_type": "code",
   "execution_count": 4,
   "metadata": {},
   "outputs": [],
   "source": [
    "valencia = pd.DataFrame(['white']*600+['hispano']*300+\n",
    "                       ['black']*250 + ['asian'] * 75 +\n",
    "                        ['other']*150)"
   ]
  },
  {
   "cell_type": "code",
   "execution_count": 5,
   "metadata": {},
   "outputs": [],
   "source": [
    "population_table = pd.crosstab(index = population[0], columns = \"count\")\n",
    "valencia_table = pd.crosstab(index = valencia[0], columns = \"count\")"
   ]
  },
  {
   "cell_type": "code",
   "execution_count": 6,
   "metadata": {},
   "outputs": [
    {
     "name": "stdout",
     "output_type": "stream",
     "text": [
      "col_0      count\n",
      "0               \n",
      "asian     150000\n",
      "black     500000\n",
      "hispano   600000\n",
      "other     350000\n",
      "white    1000000\n"
     ]
    }
   ],
   "source": [
    "print(population_table)"
   ]
  },
  {
   "cell_type": "code",
   "execution_count": 7,
   "metadata": {},
   "outputs": [
    {
     "name": "stdout",
     "output_type": "stream",
     "text": [
      "col_0    count\n",
      "0             \n",
      "asian       75\n",
      "black      250\n",
      "hispano    300\n",
      "other      150\n",
      "white      600\n"
     ]
    }
   ],
   "source": [
    "print(valencia_table)"
   ]
  },
  {
   "cell_type": "markdown",
   "metadata": {},
   "source": [
    "$$\\chi_0 = \\sum_{i-1}^n \\frac{(o_i - e_i)^2}{e_i} \\sim\\chi^2_{n-1-k}$$\n",
    "\n",
    "Donde $n$ es el número de clases o categorías, $o_i$ son las frecuencias obsrvadas y $e_i$ son las frecuencias teóricas y por último $k$ es el número de parámetros estimados para la distribución teórica"
   ]
  },
  {
   "cell_type": "code",
   "execution_count": 8,
   "metadata": {},
   "outputs": [
    {
     "data": {
      "text/html": [
       "<div>\n",
       "<style scoped>\n",
       "    .dataframe tbody tr th:only-of-type {\n",
       "        vertical-align: middle;\n",
       "    }\n",
       "\n",
       "    .dataframe tbody tr th {\n",
       "        vertical-align: top;\n",
       "    }\n",
       "\n",
       "    .dataframe thead th {\n",
       "        text-align: right;\n",
       "    }\n",
       "</style>\n",
       "<table border=\"1\" class=\"dataframe\">\n",
       "  <thead>\n",
       "    <tr style=\"text-align: right;\">\n",
       "      <th>col_0</th>\n",
       "      <th>count</th>\n",
       "    </tr>\n",
       "    <tr>\n",
       "      <th>0</th>\n",
       "      <th></th>\n",
       "    </tr>\n",
       "  </thead>\n",
       "  <tbody>\n",
       "    <tr>\n",
       "      <th>asian</th>\n",
       "      <td>75</td>\n",
       "    </tr>\n",
       "    <tr>\n",
       "      <th>black</th>\n",
       "      <td>250</td>\n",
       "    </tr>\n",
       "    <tr>\n",
       "      <th>hispano</th>\n",
       "      <td>300</td>\n",
       "    </tr>\n",
       "    <tr>\n",
       "      <th>other</th>\n",
       "      <td>150</td>\n",
       "    </tr>\n",
       "    <tr>\n",
       "      <th>white</th>\n",
       "      <td>600</td>\n",
       "    </tr>\n",
       "  </tbody>\n",
       "</table>\n",
       "</div>"
      ],
      "text/plain": [
       "col_0    count\n",
       "0             \n",
       "asian       75\n",
       "black      250\n",
       "hispano    300\n",
       "other      150\n",
       "white      600"
      ]
     },
     "execution_count": 8,
     "metadata": {},
     "output_type": "execute_result"
    }
   ],
   "source": [
    "o_i = valencia_table\n",
    "o_i"
   ]
  },
  {
   "cell_type": "code",
   "execution_count": 9,
   "metadata": {},
   "outputs": [
    {
     "data": {
      "text/plain": [
       "1375"
      ]
     },
     "execution_count": 9,
     "metadata": {},
     "output_type": "execute_result"
    }
   ],
   "source": [
    "n = len(valencia)\n",
    "n"
   ]
  },
  {
   "cell_type": "code",
   "execution_count": 10,
   "metadata": {},
   "outputs": [
    {
     "name": "stdout",
     "output_type": "stream",
     "text": [
      "col_0       count\n",
      "0                \n",
      "asian    0.057692\n",
      "black    0.192308\n",
      "hispano  0.230769\n",
      "other    0.134615\n",
      "white    0.384615\n",
      "====================================================================================================\n",
      "1.0\n"
     ]
    }
   ],
   "source": [
    "p_i = population_table/len(population)\n",
    "print(p_i)\n",
    "print('=' * 100)\n",
    "print(sum(p_i['count']))"
   ]
  },
  {
   "cell_type": "code",
   "execution_count": 11,
   "metadata": {},
   "outputs": [
    {
     "data": {
      "text/html": [
       "<div>\n",
       "<style scoped>\n",
       "    .dataframe tbody tr th:only-of-type {\n",
       "        vertical-align: middle;\n",
       "    }\n",
       "\n",
       "    .dataframe tbody tr th {\n",
       "        vertical-align: top;\n",
       "    }\n",
       "\n",
       "    .dataframe thead th {\n",
       "        text-align: right;\n",
       "    }\n",
       "</style>\n",
       "<table border=\"1\" class=\"dataframe\">\n",
       "  <thead>\n",
       "    <tr style=\"text-align: right;\">\n",
       "      <th>col_0</th>\n",
       "      <th>count</th>\n",
       "    </tr>\n",
       "    <tr>\n",
       "      <th>0</th>\n",
       "      <th></th>\n",
       "    </tr>\n",
       "  </thead>\n",
       "  <tbody>\n",
       "    <tr>\n",
       "      <th>asian</th>\n",
       "      <td>79.326923</td>\n",
       "    </tr>\n",
       "    <tr>\n",
       "      <th>black</th>\n",
       "      <td>264.423077</td>\n",
       "    </tr>\n",
       "    <tr>\n",
       "      <th>hispano</th>\n",
       "      <td>317.307692</td>\n",
       "    </tr>\n",
       "    <tr>\n",
       "      <th>other</th>\n",
       "      <td>185.096154</td>\n",
       "    </tr>\n",
       "    <tr>\n",
       "      <th>white</th>\n",
       "      <td>528.846154</td>\n",
       "    </tr>\n",
       "  </tbody>\n",
       "</table>\n",
       "</div>"
      ],
      "text/plain": [
       "col_0         count\n",
       "0                  \n",
       "asian     79.326923\n",
       "black    264.423077\n",
       "hispano  317.307692\n",
       "other    185.096154\n",
       "white    528.846154"
      ]
     },
     "execution_count": 11,
     "metadata": {},
     "output_type": "execute_result"
    }
   ],
   "source": [
    "e_i = n * p_i\n",
    "e_i"
   ]
  },
  {
   "cell_type": "code",
   "execution_count": 12,
   "metadata": {},
   "outputs": [
    {
     "data": {
      "text/plain": [
       "col_0\n",
       "count    18.194805\n",
       "dtype: float64"
      ]
     },
     "execution_count": 12,
     "metadata": {},
     "output_type": "execute_result"
    }
   ],
   "source": [
    "chi_0 = (((o_i - e_i)**2)/e_i).sum()\n",
    "chi_0"
   ]
  },
  {
   "cell_type": "markdown",
   "metadata": {},
   "source": [
    "### Comprobación con valor cŕitico de la distribución"
   ]
  },
  {
   "cell_type": "code",
   "execution_count": 13,
   "metadata": {},
   "outputs": [
    {
     "data": {
      "text/plain": [
       "9.487729036781154"
      ]
     },
     "execution_count": 13,
     "metadata": {},
     "output_type": "execute_result"
    }
   ],
   "source": [
    "alpha = 0.05\n",
    "crit = stats.chi2.ppf(q = 1-alpha, df = len(o_i)-1)\n",
    "crit"
   ]
  },
  {
   "cell_type": "code",
   "execution_count": 14,
   "metadata": {},
   "outputs": [
    {
     "name": "stdout",
     "output_type": "stream",
     "text": [
      "Rechazamos H0\n"
     ]
    }
   ],
   "source": [
    "if (chi_0 > crit).bool:\n",
    "    print(\"Rechazamos H0\")\n",
    "else:\n",
    "    print(\"NO hay razones para rechazar chi_0\")"
   ]
  },
  {
   "cell_type": "markdown",
   "metadata": {},
   "source": [
    "$$p = P(\\chi^2_{k-1} > \\chi_0) = 1 - F_{\\chi^2_{k-1}}{\\chi_0}$$"
   ]
  },
  {
   "cell_type": "code",
   "execution_count": 16,
   "metadata": {},
   "outputs": [
    {
     "data": {
      "text/plain": [
       "array([0.00113047])"
      ]
     },
     "execution_count": 16,
     "metadata": {},
     "output_type": "execute_result"
    }
   ],
   "source": [
    "p_val = 1 - stats.chi2.cdf(x = chi_0, df = len(o_i)-1)\n",
    "p_val"
   ]
  },
  {
   "cell_type": "code",
   "execution_count": 17,
   "metadata": {},
   "outputs": [
    {
     "name": "stdout",
     "output_type": "stream",
     "text": [
      "Rechazamos HO\n"
     ]
    }
   ],
   "source": [
    "if p_val < alpha:\n",
    "    print('Rechazamos HO')\n",
    "else:\n",
    "    print('No hay evidencias para rechazar HO')"
   ]
  },
  {
   "cell_type": "markdown",
   "metadata": {},
   "source": [
    "## Automatizamos el código con el test de $\\chi^2$ de ```scipy.stats```"
   ]
  },
  {
   "cell_type": "code",
   "execution_count": 20,
   "metadata": {},
   "outputs": [
    {
     "data": {
      "text/plain": [
       "Power_divergenceResult(statistic=array([18.19480519]), pvalue=array([0.00113047]))"
      ]
     },
     "execution_count": 20,
     "metadata": {},
     "output_type": "execute_result"
    }
   ],
   "source": [
    "stats.chisquare(f_obs = o_i, f_exp = e_i)"
   ]
  },
  {
   "cell_type": "markdown",
   "metadata": {},
   "source": [
    "**Otra forma de hacer el test de $\\chi^2$**"
   ]
  },
  {
   "cell_type": "code",
   "execution_count": 26,
   "metadata": {},
   "outputs": [],
   "source": [
    "table = [[10, 20, 30, 40], [6, 9, 15, 22]]\n",
    "esta, pv, df, expected = stats.chi2_contingency(table)"
   ]
  },
  {
   "cell_type": "code",
   "execution_count": 28,
   "metadata": {},
   "outputs": [
    {
     "name": "stdout",
     "output_type": "stream",
     "text": [
      "Estadisctico = 0.2669461795157015, pvalue = 0.9661202118012747, df = 3\n"
     ]
    }
   ],
   "source": [
    "print(\"Estadisctico = {}, pvalue = {}, df = {}\".format(esta, pv, df))"
   ]
  },
  {
   "cell_type": "code",
   "execution_count": 29,
   "metadata": {},
   "outputs": [
    {
     "name": "stdout",
     "output_type": "stream",
     "text": [
      "[[10.52631579 19.07894737 29.60526316 40.78947368]\n",
      " [ 5.47368421  9.92105263 15.39473684 21.21052632]]\n"
     ]
    }
   ],
   "source": [
    "print(expected)"
   ]
  },
  {
   "cell_type": "code",
   "execution_count": 46,
   "metadata": {},
   "outputs": [],
   "source": [
    "tabla = [[o_i.values], [e_i.values]]\n",
    "esta, pv, df, expected = stats.chi2_contingency(tabla)"
   ]
  },
  {
   "cell_type": "code",
   "execution_count": 47,
   "metadata": {},
   "outputs": [
    {
     "name": "stdout",
     "output_type": "stream",
     "text": [
      "Estadisctico = 9.171739568069004, pvalue = 0.056947264254736917, df = 4\n"
     ]
    }
   ],
   "source": [
    "print(\"Estadisctico = {}, pvalue = {}, df = {}\".format(esta, pv, df))"
   ]
  },
  {
   "cell_type": "code",
   "execution_count": 48,
   "metadata": {},
   "outputs": [
    {
     "data": {
      "text/plain": [
       "[[array([[ 75],\n",
       "         [250],\n",
       "         [300],\n",
       "         [150],\n",
       "         [600]])],\n",
       " [array([[ 79.32692308],\n",
       "         [264.42307692],\n",
       "         [317.30769231],\n",
       "         [185.09615385],\n",
       "         [528.84615385]])]]"
      ]
     },
     "execution_count": 48,
     "metadata": {},
     "output_type": "execute_result"
    }
   ],
   "source": [
    "tabla"
   ]
  },
  {
   "cell_type": "markdown",
   "metadata": {},
   "source": [
    "# TEST DE NORMALIDAD"
   ]
  },
  {
   "cell_type": "code",
   "execution_count": 49,
   "metadata": {},
   "outputs": [],
   "source": [
    "data = [0.873, 0.121, 2.817, -0.945, -0.55, -1.436, 0.36, -1.478, -1.869, -1.637]"
   ]
  },
  {
   "cell_type": "markdown",
   "metadata": {},
   "source": [
    "\n",
    "\n",
    "$$\n",
    "\\left\\{\n",
    "\\begin{array}{ll}\n",
    "H_0: & \\mathrm{la\\ muestra\\ proviene\\ de\\ una\\ normal}\\\\\\\n",
    "H_1: & \\mathrm{la\\ muestra\\ no\\ proviene\\ de\\ una\\ normal}\n",
    "\\end{array}\n",
    "\\right.\n",
    "$$\n",
    "\n"
   ]
  },
  {
   "cell_type": "markdown",
   "metadata": {},
   "source": [
    "### Test de Shapiro-Wilk\n",
    "\n",
    "* Cada Observación de la meustra debe ser independiente identicamente distribuidas (idd)"
   ]
  },
  {
   "cell_type": "code",
   "execution_count": 52,
   "metadata": {},
   "outputs": [
    {
     "name": "stdout",
     "output_type": "stream",
     "text": [
      "Estadisctico = 0.8887019157409668, pvalue = 0.16395507752895355\n",
      "Es probablemente una muestra procedente de una Normal\n"
     ]
    }
   ],
   "source": [
    "esta, pv = stats.shapiro(data)\n",
    "print(\"Estadisctico = {}, pvalue = {}\".format(esta, pv))\n",
    "if pv > 0.05:\n",
    "    print(\"Es probablemente una muestra procedente de una Normal\")\n",
    "else:\n",
    "    print(\"No parece que proceda de una Normal\")"
   ]
  },
  {
   "cell_type": "markdown",
   "metadata": {},
   "source": [
    "### Test d'Agostino $K^2$\n",
    "* Cada Observación de la meustra debe ser independiente identicamente distribuidas (idd)\n",
    "* $$n\\geq20$$"
   ]
  },
  {
   "cell_type": "code",
   "execution_count": 54,
   "metadata": {},
   "outputs": [
    {
     "name": "stdout",
     "output_type": "stream",
     "text": [
      "Estadisctico = 0.8887019157409668, pvalue = 0.11628038249613654\n",
      "Es probablemente una muestra procedente de una Normal\n"
     ]
    },
    {
     "name": "stderr",
     "output_type": "stream",
     "text": [
      "/home/guillem/anaconda3/envs/masterds/lib/python3.7/site-packages/scipy/stats/stats.py:1535: UserWarning: kurtosistest only valid for n>=20 ... continuing anyway, n=10\n",
      "  \"anyway, n=%i\" % int(n))\n"
     ]
    }
   ],
   "source": [
    "stat, pv = stats.normaltest(data)\n",
    "print(\"Estadisctico = {}, pvalue = {}\".format(esta, pv))\n",
    "if pv > 0.05:\n",
    "    print(\"Es probablemente una muestra procedente de una Normal\")\n",
    "else:\n",
    "    print(\"No parece que proceda de una Normal\")"
   ]
  },
  {
   "cell_type": "markdown",
   "metadata": {},
   "source": [
    "### Test de Anderson-Darling\n",
    "\n",
    "* Cada Observación de la meustra debe ser independiente identicamente distribuidas (idd)"
   ]
  },
  {
   "cell_type": "code",
   "execution_count": 58,
   "metadata": {},
   "outputs": [
    {
     "data": {
      "text/plain": [
       "AndersonResult(statistic=0.43790621884128633, critical_values=array([0.501, 0.57 , 0.684, 0.798, 0.95 ]), significance_level=array([15. , 10. ,  5. ,  2.5,  1. ]))"
      ]
     },
     "execution_count": 58,
     "metadata": {},
     "output_type": "execute_result"
    }
   ],
   "source": [
    "result = stats.anderson(data)\n",
    "result"
   ]
  },
  {
   "cell_type": "code",
   "execution_count": 62,
   "metadata": {},
   "outputs": [
    {
     "name": "stdout",
     "output_type": "stream",
     "text": [
      "Probablemente Gaussiana a un nivel de significación del 15.0%\n",
      "Probablemente Gaussiana a un nivel de significación del 10.0%\n",
      "Probablemente Gaussiana a un nivel de significación del 5.0%\n",
      "Probablemente Gaussiana a un nivel de significación del 2.5%\n",
      "Probablemente Gaussiana a un nivel de significación del 1.0%\n"
     ]
    }
   ],
   "source": [
    "for i in range(len(result.critical_values)):\n",
    "    sl, cv = result.significance_level[i], result.critical_values[i]\n",
    "    if result.statistic < cv:\n",
    "        print(\"Probablemente Gaussiana a un nivel de significación del {}%\". format(sl))\n",
    "    else:\n",
    "        print(\"Probablemente no Gaussiana a un nivel de significación del {}%\".format(sl))"
   ]
  },
  {
   "cell_type": "code",
   "execution_count": null,
   "metadata": {},
   "outputs": [],
   "source": []
  },
  {
   "cell_type": "code",
   "execution_count": null,
   "metadata": {},
   "outputs": [],
   "source": []
  }
 ],
 "metadata": {
  "kernelspec": {
   "display_name": "Python 3",
   "language": "python",
   "name": "python3"
  },
  "language_info": {
   "codemirror_mode": {
    "name": "ipython",
    "version": 3
   },
   "file_extension": ".py",
   "mimetype": "text/x-python",
   "name": "python",
   "nbconvert_exporter": "python",
   "pygments_lexer": "ipython3",
   "version": "3.7.3"
  }
 },
 "nbformat": 4,
 "nbformat_minor": 4
}
